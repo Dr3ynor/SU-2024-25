{
  "nbformat": 4,
  "nbformat_minor": 0,
  "metadata": {
    "colab": {
      "provenance": []
    },
    "kernelspec": {
      "name": "python3",
      "display_name": "Python 3"
    },
    "language_info": {
      "name": "python"
    }
  },
  "cells": [
    {
      "cell_type": "code",
      "source": [
        "import pandas as pd\n",
        "import numpy as np\n",
        "from sklearn.preprocessing import StandardScaler\n",
        "from sklearn.cluster import KMeans\n",
        "import matplotlib.pyplot as plt\n",
        "import seaborn as sns\n",
        "\n",
        "file_path = 'realestate.csv'\n",
        "df = pd.read_csv(file_path, index_col=False, low_memory=False,)"
      ],
      "metadata": {
        "id": "YP63xdsy9NCM"
      },
      "execution_count": null,
      "outputs": []
    },
    {
      "cell_type": "code",
      "source": [
        "# prompt: this is realy big dataset.. i need to make a smaller sample\n",
        "\n",
        "# Sample 10% of the DataFrame\n",
        "df = df.sample(frac=0.01, random_state=42) # set random_state for reproducibility"
      ],
      "metadata": {
        "id": "KdZJePD0BOFh"
      },
      "execution_count": null,
      "outputs": []
    },
    {
      "cell_type": "markdown",
      "source": [
        "# EDA"
      ],
      "metadata": {
        "id": "pFlNoySuIThI"
      }
    },
    {
      "cell_type": "code",
      "source": [
        "df.head(), df.info()"
      ],
      "metadata": {
        "id": "PjR49OriHs3Z"
      },
      "execution_count": null,
      "outputs": []
    },
    {
      "cell_type": "code",
      "source": [
        "df.describe()"
      ],
      "metadata": {
        "id": "-9EUrGWuI4rq"
      },
      "execution_count": null,
      "outputs": []
    },
    {
      "cell_type": "code",
      "source": [
        "df['property_type'].unique()"
      ],
      "metadata": {
        "id": "uoEMwppWv11g"
      },
      "execution_count": null,
      "outputs": []
    },
    {
      "cell_type": "code",
      "source": [
        "df['residential_type'].unique()"
      ],
      "metadata": {
        "id": "lYvQn7WyMbZj"
      },
      "execution_count": null,
      "outputs": []
    },
    {
      "cell_type": "code",
      "source": [
        "town_counts = len(df['town'].unique())\n",
        "town_counts"
      ],
      "metadata": {
        "id": "5qC-iGcfyS1O"
      },
      "execution_count": null,
      "outputs": []
    },
    {
      "cell_type": "markdown",
      "source": [
        "## Kontrola chybějících hodnot"
      ],
      "metadata": {
        "id": "gt-DguMgJACq"
      }
    },
    {
      "cell_type": "code",
      "source": [
        "df.isnull().sum()"
      ],
      "metadata": {
        "id": "pekyOMxkI-B2"
      },
      "execution_count": null,
      "outputs": []
    },
    {
      "cell_type": "markdown",
      "source": [
        "## Kontrola zduplikovaných hodnot"
      ],
      "metadata": {
        "id": "C0o3Xbr5JEsw"
      }
    },
    {
      "cell_type": "code",
      "source": [
        "df.duplicated().sum()"
      ],
      "metadata": {
        "id": "ghPZDPklJFWH"
      },
      "execution_count": null,
      "outputs": []
    },
    {
      "cell_type": "markdown",
      "source": [
        "## Datové typy"
      ],
      "metadata": {
        "id": "Oz9CDUiEz_At"
      }
    },
    {
      "cell_type": "code",
      "source": [
        "df.dtypes"
      ],
      "metadata": {
        "id": "bfBzSEPxJeCg"
      },
      "execution_count": null,
      "outputs": []
    },
    {
      "cell_type": "markdown",
      "source": [
        "| Název sloupce | Datový typ | Stručný popis |\n",
        "| --------      | -------    |-------        |\n",
        "| serial_number | int64   |Unikátní číslo nemovitosti.|\n",
        "| list_year | int64 | Rok, kdy byla nemovitost zařazena do seznamu.\n",
        "| date_recorded | object | Datum, kdy byl záznam proveden\n",
        "| town | object | Název města, kde se nemovitost nachází.\n",
        "| address | object | Adresa nemovitosti.\n",
        "|assessed_value | int64 | Odhadovaná hodnota nemovitosti\n",
        "| sale_amount | float64 |Skutečná částka, za kterou byla nemovitost prodána.\n",
        "| sales_ratio | float64 | Poměr odhadované hodnoty a skutečné prodejní částky.\n",
        "| property_type | object | Typ nemovitosti (komerční, rezidenční atd.)\n",
        "|residential_type | object | Typ rezidenční nemovitosti\n",
        "| years_until_sold | int64 | Počet let, které uplynuly od zařazení nemovitosti na seznam do jejího prodeje.\n"
      ],
      "metadata": {
        "id": "1eHOKZ7d0Iy3"
      }
    },
    {
      "cell_type": "markdown",
      "source": [
        "## Zjištění unikátních hodnot"
      ],
      "metadata": {
        "id": "qUpm5YTTJgwH"
      }
    },
    {
      "cell_type": "code",
      "source": [
        "df.nunique()"
      ],
      "metadata": {
        "id": "kGxNf047Jhyx"
      },
      "execution_count": null,
      "outputs": []
    },
    {
      "cell_type": "code",
      "source": [
        "# Plot histogram for 'list_year'\n",
        "plt.figure(figsize=(8, 6))\n",
        "data = df['list_year'].dropna()  # Remove NaN values\n",
        "plt.hist(data, bins=len(data.unique()), color='skyblue', edgecolor='black', align='mid')\n",
        "\n",
        "# Set x-axis ticks to show whole numbers\n",
        "plt.xticks(sorted(data.unique()), rotation=45)  # Sort to ensure proper order\n",
        "plt.title('Distribution of List Year', fontsize=14)\n",
        "plt.xlabel('List Year')\n",
        "plt.ylabel('Frequency')\n",
        "\n",
        "plt.tight_layout()\n",
        "plt.show()"
      ],
      "metadata": {
        "id": "MJPW-7Yq421n"
      },
      "execution_count": null,
      "outputs": []
    },
    {
      "cell_type": "code",
      "source": [
        "min_val = -1\n",
        "max_val = 3\n",
        "\n",
        "plt.figure(figsize=(8, 6))\n",
        "data = df['years_until_sold'].dropna()\n",
        "\n",
        "bins = range(min_val, max_val)\n",
        "plt.hist(data, bins=bins, color='skyblue', edgecolor='black', align='left')\n",
        "\n",
        "plt.xticks(range(min_val, max_val), rotation=0)\n",
        "plt.xlim(min_val, max_val)\n",
        "\n",
        "plt.title('Distribution of Years Until Sold', fontsize=14)\n",
        "plt.xlabel('Years Until Sold')\n",
        "plt.ylabel('Frequency')\n",
        "\n",
        "plt.tight_layout()\n",
        "plt.show()\n"
      ],
      "metadata": {
        "id": "VBoH2cDm5y2H"
      },
      "execution_count": null,
      "outputs": []
    },
    {
      "cell_type": "code",
      "source": [
        "plt.figure(figsize=(20, 10))\n",
        "data = df['town'].dropna()\n",
        "\n",
        "town_counts = data.value_counts()\n",
        "\n",
        "town_counts.plot(kind='bar', color='skyblue', edgecolor='black')\n",
        "\n",
        "plt.title('Frequency of Records by Town', fontsize=14)\n",
        "plt.xlabel('Town')\n",
        "plt.ylabel('Frequency')\n",
        "plt.xticks(rotation=90, ha='right', fontsize=8)\n",
        "\n",
        "plt.tight_layout()\n",
        "plt.show()\n"
      ],
      "metadata": {
        "id": "ThS7Ycab7iE4"
      },
      "execution_count": null,
      "outputs": []
    },
    {
      "cell_type": "code",
      "source": [
        "plt.figure(figsize=(12, 8))\n",
        "property_type_counts = df['property_type'].dropna().value_counts()\n",
        "property_type_counts.plot(kind='bar', color='skyblue', edgecolor='black')\n",
        "\n",
        "plt.title('Frequency of Property Types', fontsize=16)\n",
        "plt.xlabel('Property Type', fontsize=14)\n",
        "plt.ylabel('Frequency', fontsize=14)\n",
        "plt.xticks(rotation=45, ha='right', fontsize=12)\n",
        "plt.tight_layout()\n",
        "plt.show()\n"
      ],
      "metadata": {
        "id": "OnqLSUlG-kML"
      },
      "execution_count": null,
      "outputs": []
    },
    {
      "cell_type": "code",
      "source": [
        "plt.figure(figsize=(12, 8))\n",
        "residential_type_counts = df['residential_type'].dropna().value_counts()\n",
        "residential_type_counts.plot(kind='bar', color='skyblue', edgecolor='black')\n",
        "\n",
        "plt.title('Frequency of Residential Types', fontsize=16)\n",
        "plt.xlabel('Residential Type', fontsize=14)\n",
        "plt.ylabel('Frequency', fontsize=14)\n",
        "plt.xticks(rotation=45, ha='right', fontsize=12)\n",
        "plt.tight_layout()\n",
        "plt.show()"
      ],
      "metadata": {
        "id": "nhI34lqsAnZk"
      },
      "execution_count": null,
      "outputs": []
    },
    {
      "cell_type": "code",
      "source": [
        "bins = [0, 100000, 200000, 300000, 400000, 500000, 600000, 700000, 800000, 900000, 1000000, float('inf')]\n",
        "bin_labels = ['0-100k', '100k-200k', '200k-300k', '300k-400k', '400k-500k', '500k-600k',\n",
        "              '600k-700k', '700k-800k', '800k-900k', '900k-1M', '1M+']\n",
        "\n",
        "df['sale_amount_range'] = pd.cut(df['sale_amount'], bins=bins, labels=bin_labels, right=False)\n",
        "\n",
        "plt.figure(figsize=(10,6))\n",
        "df['sale_amount_range'].value_counts().sort_index().plot(kind='bar', color='skyblue', edgecolor='black')\n",
        "plt.title('Sale Amount Distribution by Range')\n",
        "plt.xlabel('Sale Amount Range')\n",
        "plt.ylabel('Count')\n",
        "plt.xticks(rotation=45)\n",
        "plt.show()\n",
        "df = df.drop('sale_amount_range', axis=1)"
      ],
      "metadata": {
        "id": "BqGEopocaTvD"
      },
      "execution_count": null,
      "outputs": []
    },
    {
      "cell_type": "markdown",
      "source": [
        "TODO popsat všechny grafy"
      ],
      "metadata": {
        "id": "siQs6shu_ZQg"
      }
    },
    {
      "cell_type": "code",
      "source": [
        "categorical_or_binary = ['assessed_value', 'sale_amount', 'sales_ratio']\n",
        "selected_columns = [col for col in df.columns if col in categorical_or_binary]\n",
        "df_only_numeric = df[selected_columns]\n",
        "\n",
        "fig, axes = plt.subplots(nrows=5, ncols=3, figsize=(15, 15))\n",
        "axes = axes.flatten()\n",
        "\n",
        "for i, col in enumerate(df_only_numeric.columns):\n",
        "    if i < len(axes):  # Check if we still have axes to use\n",
        "        sns.histplot(df_only_numeric[col], kde=True, ax=axes[i])\n",
        "        axes[i].set_title(f'Histogram of {col}')\n",
        "    else:\n",
        "        break\n",
        "\n",
        "plt.tight_layout()\n",
        "plt.show()"
      ],
      "metadata": {
        "id": "W7ng1R-z-4c9"
      },
      "execution_count": null,
      "outputs": []
    },
    {
      "cell_type": "markdown",
      "source": [
        "# Pre-processing"
      ],
      "metadata": {
        "id": "2asXchJ_eh1Y"
      }
    },
    {
      "cell_type": "code",
      "source": [
        "# Convert 'date_recorded' to datetime format\n",
        "df['date_recorded'] = pd.to_datetime(df['date_recorded'], errors='coerce')\n",
        "\n",
        "# Extract year from the date\n",
        "df['year_recorded'] = df['date_recorded'].dt.year"
      ],
      "metadata": {
        "id": "9PH3GhgrKyo2"
      },
      "execution_count": null,
      "outputs": []
    },
    {
      "cell_type": "code",
      "source": [
        "# prompt: drop attribute address\n",
        "df = df.drop('address', axis=1)"
      ],
      "metadata": {
        "id": "C0d5Qc1eLAXS"
      },
      "execution_count": null,
      "outputs": []
    },
    {
      "cell_type": "code",
      "source": [
        "# One-hot encode the 'property_type' column\n",
        "df = pd.get_dummies(df, columns=['property_type'], prefix='property_type')"
      ],
      "metadata": {
        "id": "UGt3qrOILSko"
      },
      "execution_count": null,
      "outputs": []
    },
    {
      "cell_type": "code",
      "source": [
        "# One-hot encode the 'property_type' column\n",
        "df = pd.get_dummies(df, columns=['residential_type'], prefix='residential_type')"
      ],
      "metadata": {
        "id": "-7zdzroQLXWC"
      },
      "execution_count": null,
      "outputs": []
    },
    {
      "cell_type": "code",
      "source": [
        "from sklearn.preprocessing import LabelEncoder\n",
        "\n",
        "label_encoder = LabelEncoder()\n",
        "df['town'] = label_encoder.fit_transform(df['town'])"
      ],
      "metadata": {
        "id": "iI9BLLrtK3M2"
      },
      "execution_count": null,
      "outputs": []
    },
    {
      "cell_type": "code",
      "source": [
        "# Filter rows where 'property_type' is 'Single Family'\n",
        "condo_df = df[df['property_type_Condo'] == True]\n",
        "\n",
        "# Show the filtered dataframe\n",
        "condo_df"
      ],
      "metadata": {
        "id": "C3jVuuKwNXtn"
      },
      "execution_count": null,
      "outputs": []
    },
    {
      "cell_type": "code",
      "source": [
        "filtered_df = condo_df[(condo_df['property_type_Condo'] == True) & (condo_df['residential_type_Condo'] == False)]\n",
        "\n",
        "filtered_df"
      ],
      "metadata": {
        "id": "rKzOhtH_PWNl"
      },
      "execution_count": null,
      "outputs": []
    },
    {
      "cell_type": "markdown",
      "source": [
        "Po analýze atributů residential_type a property type jsem se rozhodl smazat atribut residential_type, protože není podstatný pro další analýzu či shlukování. Ověřeno kódem výše. (Toto bylo ověřeno nejen pro typ \"Condo\" , ale i pro ostatní typy.)"
      ],
      "metadata": {
        "id": "cvDViqMgXXLm"
      }
    },
    {
      "cell_type": "code",
      "source": [
        "# prompt: drop all columns where name include residential_type\n",
        "\n",
        "# Drop columns containing 'residential_type' in their name\n",
        "df = df.drop(columns=[col for col in df.columns if 'residential_type' in col])"
      ],
      "metadata": {
        "id": "URaGiiaTPove"
      },
      "execution_count": null,
      "outputs": []
    },
    {
      "cell_type": "code",
      "source": [
        "# prompt: drop date_recorded\n",
        "\n",
        "df = df.drop('date_recorded', axis=1)"
      ],
      "metadata": {
        "id": "-p4r38tIVCb4"
      },
      "execution_count": null,
      "outputs": []
    },
    {
      "cell_type": "code",
      "source": [
        "df = df.drop('serial_number',axis=1)"
      ],
      "metadata": {
        "id": "Pk7JCB2tia10"
      },
      "execution_count": null,
      "outputs": []
    },
    {
      "cell_type": "code",
      "source": [
        "# prompt: rename property_type_Nan to other\n",
        "\n",
        "# Rename the column\n",
        "df = df.rename(columns={'property_type_Nan': 'property_type_other'})"
      ],
      "metadata": {
        "id": "3-MQDSk4V189"
      },
      "execution_count": null,
      "outputs": []
    },
    {
      "cell_type": "code",
      "source": [
        "# prompt: if it is property_type_Single Family or\n",
        "# property_type_Three Family or\n",
        "# property_type_Two Family or\n",
        "# property_type_Four_Family\n",
        "# create a new column property_type_Family\n",
        "\n",
        "# Create 'property_type_Family' column\n",
        "df['property_type_Family'] = (\n",
        "    (df['property_type_Single Family'] == 1) |\n",
        "    (df['property_type_Three Family'] == 1) |\n",
        "    (df['property_type_Two Family'] == 1) |\n",
        "    (df['property_type_Four Family'] == 1)\n",
        ").astype(int)"
      ],
      "metadata": {
        "id": "oswhVD-j3uw-"
      },
      "execution_count": null,
      "outputs": []
    },
    {
      "cell_type": "code",
      "source": [
        "# prompt: convert property_type_Family to bool\n",
        "\n",
        "# The 'property_type_Family' column is already created as an integer (0 or 1)\n",
        "# representing True or False.  No further conversion is needed.\n",
        "\n",
        "# If you *really* need a boolean type:\n",
        "df['property_type_Family'] = df['property_type_Family'].astype(bool)"
      ],
      "metadata": {
        "id": "UeUZgZCc5plN"
      },
      "execution_count": null,
      "outputs": []
    },
    {
      "cell_type": "code",
      "source": [
        "# prompt: delete columns: property_type_Single Family, property_type_Three Family, property_type_Two Family, property_type_Four_Family\n",
        "\n",
        "# Drop the specified columns\n",
        "df = df.drop(columns=['property_type_Single Family', 'property_type_Three Family', 'property_type_Two Family', 'property_type_Four Family'])"
      ],
      "metadata": {
        "id": "2PGt_pOf5L1y"
      },
      "execution_count": null,
      "outputs": []
    },
    {
      "cell_type": "code",
      "source": [
        "corr_mat = df.corr()\n",
        "\n",
        "plt.figure(figsize=(20, 15))\n",
        "sns.heatmap(corr_mat, cmap='coolwarm', square=True, annot=True, fmt='.2f')\n",
        "\n",
        "plt.show()"
      ],
      "metadata": {
        "id": "enDF2-nxJuLD"
      },
      "execution_count": null,
      "outputs": []
    },
    {
      "cell_type": "code",
      "source": [],
      "metadata": {
        "id": "ukgg6I7j3TTK"
      },
      "execution_count": null,
      "outputs": []
    },
    {
      "cell_type": "markdown",
      "source": [
        "# 1. Metoda shlukování (K-means)"
      ],
      "metadata": {
        "id": "3M3le7u7B8Id"
      }
    },
    {
      "cell_type": "markdown",
      "source": [
        "TODO:\n",
        "list_year, town dummies (one_hot)\n",
        "\n",
        "\n",
        "\n",
        "assessed_value, sale_amount, sales_ratio - scaler"
      ],
      "metadata": {
        "id": "-jTBl7rn-JOb"
      }
    },
    {
      "cell_type": "code",
      "source": [
        "df"
      ],
      "metadata": {
        "id": "iXAt0Odo6mvY"
      },
      "execution_count": null,
      "outputs": []
    },
    {
      "cell_type": "code",
      "source": [
        "df.dtypes"
      ],
      "metadata": {
        "id": "OVUEx275gaT9"
      },
      "execution_count": null,
      "outputs": []
    },
    {
      "cell_type": "code",
      "source": [
        "sse = []\n",
        "for k in range(1, 11):\n",
        "    kmeans = KMeans(n_clusters=k, random_state=42)\n",
        "    kmeans.fit(df)\n",
        "    sse.append(kmeans.inertia_)\n",
        "\n",
        "\n",
        "plt.plot(range(1, 11), sse)\n",
        "plt.title('Elbow Method for Optimal k')\n",
        "plt.xlabel('Number of Clusters (k)')\n",
        "plt.ylabel('Sum of Squared Errors (SSE)')\n",
        "plt.show()"
      ],
      "metadata": {
        "id": "0UrJUzaFB9mU"
      },
      "execution_count": null,
      "outputs": []
    },
    {
      "cell_type": "code",
      "source": [
        "import sklearn.cluster\n",
        "clusters = sklearn.cluster.KMeans(n_clusters=2, random_state=13).fit(df)\n",
        "df['cluster_id'] = clusters.labels_"
      ],
      "metadata": {
        "id": "1Bdo-ZwxpMb6"
      },
      "execution_count": null,
      "outputs": []
    },
    {
      "cell_type": "code",
      "source": [
        "# Assuming X_test['cluster_id'] contains the cluster labels\n",
        "cluster_counts = df['cluster_id'].value_counts()\n",
        "cluster_counts"
      ],
      "metadata": {
        "id": "GHdT8o20qr8-"
      },
      "execution_count": null,
      "outputs": []
    },
    {
      "cell_type": "markdown",
      "source": [
        "## Explorace clusterů"
      ],
      "metadata": {
        "id": "H4eQ_J5Q0Dp6"
      }
    },
    {
      "cell_type": "code",
      "source": [
        "attributes = ['list_year','assessed_value','sale_amount','town','sales_ratio']\n",
        "\n",
        "num_attributes = len(attributes)\n",
        "num_rows = (num_attributes + 1) // 2\n",
        "\n",
        "fig, axes = plt.subplots(nrows=num_rows, ncols=2, figsize=(12, 4 * num_rows))\n",
        "\n",
        "axes = axes.flatten()\n",
        "\n",
        "for i, attribute in enumerate(attributes):\n",
        "    # Check if the column exists in X_test before plotting\n",
        "    if attribute in df.columns:\n",
        "        sns.boxplot(x='cluster_id', y=attribute, data=df, ax=axes[i])\n",
        "        axes[i].set_title(f'Boxplot of {attribute} by Cluster')\n",
        "    else:\n",
        "        print(f\"Warning: Column '{attribute}' not found in X_test. Skipping boxplot.\")\n",
        "\n",
        "if num_attributes % 2 != 0:\n",
        "    fig.delaxes(axes[-1])\n",
        "\n",
        "plt.tight_layout()\n",
        "plt.show()"
      ],
      "metadata": {
        "id": "onyon6PC2NTQ"
      },
      "execution_count": null,
      "outputs": []
    },
    {
      "cell_type": "markdown",
      "source": [
        "# 2. metoda shlukování (DBSCAN)"
      ],
      "metadata": {
        "id": "AGaICiA-ewBP"
      }
    },
    {
      "cell_type": "code",
      "source": [],
      "metadata": {
        "id": "twujZBYie_qs"
      },
      "execution_count": null,
      "outputs": []
    },
    {
      "cell_type": "markdown",
      "source": [
        "# 3. metoda shlukování (Agglomerative Clustering)"
      ],
      "metadata": {
        "id": "zn-KBdRTeyTQ"
      }
    },
    {
      "cell_type": "code",
      "source": [],
      "metadata": {
        "id": "h6ExWObXfAjL"
      },
      "execution_count": null,
      "outputs": []
    }
  ]
}