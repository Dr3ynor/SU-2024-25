{
 "cells": [
  {
   "cell_type": "code",
   "execution_count": 1,
   "metadata": {
    "id": "x6XOUhvFa-wT"
   },
   "outputs": [],
   "source": [
    "import numpy as np\n",
    "import pandas as pd\n",
    "import sklearn.preprocessing, sklearn.cluster, sklearn.metrics\n",
    "import scipy.spatial\n",
    "import matplotlib.pyplot as plt\n",
    "import seaborn as sns"
   ]
  },
  {
   "cell_type": "markdown",
   "metadata": {},
   "source": [
    "# Data description\n",
    "\n",
    "Data source: https://archive.ics.uci.edu/dataset/186/wine+quality or https://www.kaggle.com/datasets/uciml/red-wine-quality-cortez-et-al-2009/data\n",
    "\n",
    "The set of 11 attributes/variables based on physicochemical tests and 1 variable describing quality.\n",
    "\n",
    "|Attribute|Description|\n",
    "|:-------|:-------|\n",
    "|fixed acidity|most acids involved with wine or fixed or nonvolatile (do not evaporate readily)|\n",
    "|volatile acidity|the amount of acetic acid in wine, which at too high of levels can lead to an unpleasant, vinegar taste|\n",
    "|citric acid|found in small quantities, citric acid can add 'freshness' and flavor to wines|\n",
    "|residual sugar|the amount of sugar remaining after fermentation stops, it's rare to find wines with less than 1 gram/liter and wines with greater than 45 grams/liter are considered sweet|\n",
    "|chlorides|the amount of salt in the wine|\n",
    "|free sulfur dioxide|the free form of SO2 exists in equilibrium between molecular SO2 (as a dissolved gas) and bisulfite ion; it prevents microbial growth and the oxidation of wine|\n",
    "|total sulfur dioxide|amount of free and bound forms of S02; in low concentrations, SO2 is mostly undetectable in wine, but at free SO2 concentrations over 50 ppm, SO2 becomes evident in the nose and taste of wine|\n",
    "|density|the density of water is close to that of water depending on the percent alcohol and sugar content|\n",
    "|pH|describes how acidic or basic a wine is on a scale from 0 (very acidic) to 14 (very basic); most wines are between 3-4 on the pH scale|\n",
    "|sulphates|a wine additive which can contribute to sulfur dioxide gas (S02) levels, wich acts as an antimicrobial and antioxidant|\n",
    "|alcohol|the percent alcohol content of the wine|\n",
    "|quality|output variable (based on sensory data, score between 0 and 10)"
   ]
  },
  {
   "cell_type": "markdown",
   "metadata": {},
   "source": [
    "# Data loading"
   ]
  },
  {
   "cell_type": "code",
   "execution_count": null,
   "metadata": {},
   "outputs": [],
   "source": [
    "df = pd.read_csv('data_clustering/winequality-red.csv')\n",
    "df"
   ]
  },
  {
   "cell_type": "code",
   "execution_count": null,
   "metadata": {},
   "outputs": [],
   "source": [
    "df.describe()"
   ]
  },
  {
   "cell_type": "code",
   "execution_count": null,
   "metadata": {},
   "outputs": [],
   "source": [
    "df_only_numeric = df.select_dtypes(np.number)\n",
    "\n",
    "# Create the subplots\n",
    "n_rows, n_cols = df_only_numeric.shape\n",
    "fig, axes = plt.subplots(nrows=1, ncols=n_cols, figsize=(40, 6))\n",
    "for i, column in enumerate(df_only_numeric):\n",
    "    sns.histplot(data=df_only_numeric, x=column, ax=axes[i]).set_title(column)"
   ]
  },
  {
   "cell_type": "code",
   "execution_count": null,
   "metadata": {},
   "outputs": [],
   "source": [
    "df.quality.value_counts().sort_index()"
   ]
  },
  {
   "cell_type": "code",
   "execution_count": null,
   "metadata": {},
   "outputs": [],
   "source": [
    "df['quality_class'] = 'normal'\n",
    "df.loc[df.quality <= 4, 'quality_class'] = 'bad'\n",
    "df.loc[df.quality >= 7, 'quality_class'] = 'good'\n",
    "df.quality_class.value_counts()"
   ]
  },
  {
   "cell_type": "code",
   "execution_count": null,
   "metadata": {},
   "outputs": [],
   "source": [
    "sns.heatmap(df_only_numeric.corr(method='spearman'), annot=True, fmt='.2f', cmap='coolwarm', vmin=-1, vmax=1)"
   ]
  },
  {
   "cell_type": "code",
   "execution_count": 9,
   "metadata": {},
   "outputs": [],
   "source": [
    "top_5_features_for_quality = ['alcohol', 'sulphates', 'volatile acidity', 'citric acid', 'chlorides']"
   ]
  },
  {
   "cell_type": "markdown",
   "metadata": {},
   "source": [
    "# Data preprocessing before clustering\n",
    "- Why do we need to preprocess the data?"
   ]
  },
  {
   "cell_type": "code",
   "execution_count": 10,
   "metadata": {},
   "outputs": [],
   "source": [
    "X = df_only_numeric.drop(columns=['quality']).values"
   ]
  },
  {
   "cell_type": "code",
   "execution_count": null,
   "metadata": {},
   "outputs": [],
   "source": [
    "scaler = sklearn.preprocessing.MinMaxScaler()\n",
    "X_min_max_scaled = scaler.fit_transform(X)\n",
    "X_min_max_scaled"
   ]
  },
  {
   "cell_type": "markdown",
   "metadata": {},
   "source": [
    "# Clustering"
   ]
  },
  {
   "cell_type": "markdown",
   "metadata": {
    "id": "uMuH_M_seYZ2"
   },
   "source": [
    "## KMeans + clustering quality\n",
    "- https://scikit-learn.org/stable/modules/generated/sklearn.cluster.KMeans.html\n",
    "- Do you know any technique to determine the best number of clusters?"
   ]
  },
  {
   "cell_type": "code",
   "execution_count": null,
   "metadata": {
    "colab": {
     "base_uri": "https://localhost:8080/",
     "height": 862
    },
    "id": "cKYJ6tFDcwaO",
    "outputId": "60300f10-27f4-4223-dfcc-54af3ef94e2a"
   },
   "outputs": [],
   "source": [
    "clustering = sklearn.cluster.KMeans(n_clusters=5)\n",
    "clustering.fit(X_min_max_scaled)"
   ]
  },
  {
   "cell_type": "code",
   "execution_count": null,
   "metadata": {},
   "outputs": [],
   "source": [
    "clustering.labels_"
   ]
  },
  {
   "cell_type": "code",
   "execution_count": null,
   "metadata": {},
   "outputs": [],
   "source": [
    "pd.Series(clustering.labels_).value_counts()"
   ]
  },
  {
   "cell_type": "code",
   "execution_count": null,
   "metadata": {
    "colab": {
     "base_uri": "https://localhost:8080/",
     "height": 35
    },
    "id": "6OJQETQxc7RP",
    "outputId": "2086c31e-9d30-4b04-d0e5-5b0102589d15"
   },
   "outputs": [],
   "source": [
    "clustering.inertia_"
   ]
  },
  {
   "cell_type": "code",
   "execution_count": null,
   "metadata": {
    "colab": {
     "base_uri": "https://localhost:8080/",
     "height": 35
    },
    "id": "BCQ0FcUGdv8-",
    "outputId": "b5f6e453-3274-4d9b-8601-7235ec9e5e4b"
   },
   "outputs": [],
   "source": [
    "sklearn.metrics.silhouette_score(X_min_max_scaled, clustering.labels_)"
   ]
  },
  {
   "cell_type": "markdown",
   "metadata": {},
   "source": [
    "## Elbow method"
   ]
  },
  {
   "cell_type": "markdown",
   "metadata": {},
   "source": [
    "#### Calculate SSE and Silhouette for differenet parameters of clusters $k \\in <2, 15>$. Create visualization for both of clustering quality criteria"
   ]
  },
  {
   "cell_type": "code",
   "execution_count": null,
   "metadata": {
    "colab": {
     "base_uri": "https://localhost:8080/",
     "height": 559
    },
    "id": "E_7s0eVWdfjS",
    "outputId": "5c1ae307-63ba-48b3-e6b2-9e8995b95c55"
   },
   "outputs": [],
   "source": [
    "clustering_scores = []\n",
    "for k in range(2, 16):\n",
    "    clustering = sklearn.cluster.KMeans(n_clusters=k, random_state=13).fit(X_min_max_scaled)\n",
    "    clustering_scores.append({\n",
    "        'k': k,\n",
    "        'sse': clustering.inertia_,\n",
    "        'silhouette': sklearn.metrics.silhouette_score(X_min_max_scaled, clustering.labels_),\n",
    "    })\n",
    "df_clustering_scores = pd.DataFrame.from_dict(clustering_scores, orient='columns')\n",
    "df_clustering_scores"
   ]
  },
  {
   "cell_type": "code",
   "execution_count": null,
   "metadata": {},
   "outputs": [],
   "source": [
    "sns.lineplot(data=df_clustering_scores, x='k', y='sse')"
   ]
  },
  {
   "cell_type": "code",
   "execution_count": null,
   "metadata": {},
   "outputs": [],
   "source": [
    "sns.lineplot(data=df_clustering_scores, x='k', y='silhouette')"
   ]
  },
  {
   "cell_type": "markdown",
   "metadata": {},
   "source": [
    "#### How many cluster do you see ?"
   ]
  },
  {
   "cell_type": "markdown",
   "metadata": {},
   "source": [
    "#### Can you imagine other quality criteria to use over some real dataset? Do you know difference between external and internal criteria?"
   ]
  },
  {
   "cell_type": "markdown",
   "metadata": {},
   "source": [
    "## Clustering interpretation"
   ]
  },
  {
   "cell_type": "code",
   "execution_count": null,
   "metadata": {},
   "outputs": [],
   "source": [
    "clustering = sklearn.cluster.KMeans(n_clusters=6, random_state=13)\n",
    "clustering.fit(X_min_max_scaled)"
   ]
  },
  {
   "cell_type": "code",
   "execution_count": 21,
   "metadata": {},
   "outputs": [],
   "source": [
    "df['cluster_id'] = clustering.labels_"
   ]
  },
  {
   "cell_type": "code",
   "execution_count": null,
   "metadata": {},
   "outputs": [],
   "source": [
    "sns.countplot(data=df, x='cluster_id')"
   ]
  },
  {
   "cell_type": "markdown",
   "metadata": {},
   "source": [
    "#### Let's take a look on the centroids"
   ]
  },
  {
   "cell_type": "code",
   "execution_count": null,
   "metadata": {},
   "outputs": [],
   "source": [
    "df.select_dtypes(np.number).groupby('cluster_id').mean()"
   ]
  },
  {
   "cell_type": "markdown",
   "metadata": {},
   "source": [
    "#### Use describe() for quick inspection of numeric values in dataset."
   ]
  },
  {
   "cell_type": "code",
   "execution_count": null,
   "metadata": {},
   "outputs": [],
   "source": [
    "with pd.option_context('display.max_columns', None):\n",
    "    display(df.groupby('cluster_id').describe(include='object'))"
   ]
  },
  {
   "cell_type": "code",
   "execution_count": null,
   "metadata": {},
   "outputs": [],
   "source": [
    "with pd.option_context('display.max_columns', None):\n",
    "    display(df.groupby('cluster_id').describe(exclude='object'))"
   ]
  },
  {
   "cell_type": "code",
   "execution_count": null,
   "metadata": {},
   "outputs": [],
   "source": [
    "with pd.option_context('display.max_columns', None):\n",
    "    display(df.select_dtypes(np.number).groupby('cluster_id').agg(['mean', 'min', 'max']))"
   ]
  },
  {
   "cell_type": "markdown",
   "metadata": {},
   "source": [
    "### Graphical ilustration of values in the clusters"
   ]
  },
  {
   "cell_type": "code",
   "execution_count": null,
   "metadata": {},
   "outputs": [],
   "source": [
    "for column in ['fixed acidity', 'volatile acidity', 'citric acid', 'residual sugar']:\n",
    "    sns.displot(data=df, x=column, hue='cluster_id', palette='tab10', kde=True, bins=50)\n",
    "    plt.title(column)\n",
    "    plt.show()"
   ]
  },
  {
   "cell_type": "code",
   "execution_count": null,
   "metadata": {},
   "outputs": [],
   "source": [
    "for column in ['fixed acidity', 'volatile acidity', 'citric acid', 'residual sugar']:\n",
    "    sns.boxplot(data=df, y=column, x='cluster_id')\n",
    "    plt.title(column)\n",
    "    plt.show()"
   ]
  },
  {
   "cell_type": "markdown",
   "metadata": {},
   "source": [
    "#### Are there any differences attributes for different clusters?\n",
    "\n",
    "#### Clusters possible interpretation\n",
    "\n",
    "For cluster 0 there are lower *volatile acidity* values. \n",
    "\n",
    "The cluster 1 represents the wines with high *fixed acidity* and *citric acid* values.\n",
    "\n",
    "The biggest cluster 2 (consisted of 536 points out of total 1599 points) has small sulfur values and relatively small residual sugar.\n",
    "\n",
    "etc..."
   ]
  },
  {
   "cell_type": "code",
   "execution_count": null,
   "metadata": {},
   "outputs": [],
   "source": []
  },
  {
   "cell_type": "markdown",
   "metadata": {},
   "source": [
    "### Can we see differences in wine quality for different clusters?"
   ]
  },
  {
   "cell_type": "code",
   "execution_count": null,
   "metadata": {},
   "outputs": [],
   "source": [
    "sns.boxplot(data=df, y='quality', x='cluster_id')"
   ]
  },
  {
   "cell_type": "code",
   "execution_count": null,
   "metadata": {},
   "outputs": [],
   "source": [
    "df.groupby('cluster_id').quality.value_counts().head(20)"
   ]
  },
  {
   "cell_type": "code",
   "execution_count": null,
   "metadata": {},
   "outputs": [],
   "source": [
    "df_quality_in_clusters = pd.pivot(df.groupby('cluster_id').quality.value_counts().reset_index(name='count'), index='quality', columns=['cluster_id'], values='count')\n",
    "df_quality_in_clusters.fillna(0, inplace=True)\n",
    "df_quality_in_clusters"
   ]
  },
  {
   "cell_type": "code",
   "execution_count": null,
   "metadata": {},
   "outputs": [],
   "source": [
    "sns.heatmap((df_quality_in_clusters/df_quality_in_clusters.sum(axis=0)).sort_index(ascending=False), cmap='YlOrBr', vmin=0, vmax=1, annot=True, fmt='.1%')"
   ]
  },
  {
   "cell_type": "code",
   "execution_count": null,
   "metadata": {},
   "outputs": [],
   "source": [
    "sns.heatmap((df_quality_in_clusters.T/df_quality_in_clusters.sum(axis=1)).T.sort_index(ascending=False), cmap='YlOrBr', vmin=0, vmax=1, annot=True, fmt='.1%')"
   ]
  },
  {
   "cell_type": "markdown",
   "metadata": {},
   "source": [
    "#### How can we interpret previous illustrations?"
   ]
  },
  {
   "cell_type": "markdown",
   "metadata": {},
   "source": [
    "#### Description of clusters based on its quality values:\n",
    "\n",
    "- TODO: Fill in some observations"
   ]
  },
  {
   "cell_type": "markdown",
   "metadata": {
    "id": "OWYkNVogep3k"
   },
   "source": [
    "## DBSCAN + distance analysis\n",
    "- https://www.kdnuggets.com/2020/04/dbscan-clustering-algorithm-machine-learning.html\n",
    "- https://scikit-learn.org/stable/modules/generated/sklearn.cluster.DBSCAN.html\n",
    "\n",
    "We are going to use only top 5 selected features with the highest correlation to quality for following clustering."
   ]
  },
  {
   "cell_type": "code",
   "execution_count": null,
   "metadata": {},
   "outputs": [],
   "source": [
    "top_5_features_for_quality"
   ]
  },
  {
   "cell_type": "code",
   "execution_count": null,
   "metadata": {},
   "outputs": [],
   "source": [
    "sns.pairplot(data=df[top_5_features_for_quality + ['quality_class']], hue='quality_class')"
   ]
  },
  {
   "cell_type": "code",
   "execution_count": 40,
   "metadata": {},
   "outputs": [],
   "source": [
    "scaler = sklearn.preprocessing.MinMaxScaler()\n",
    "X_min_max_scaled = scaler.fit_transform(df[top_5_features_for_quality].values)"
   ]
  },
  {
   "cell_type": "code",
   "execution_count": null,
   "metadata": {
    "colab": {
     "base_uri": "https://localhost:8080/",
     "height": 348
    },
    "id": "07ZgpmO8epPt",
    "outputId": "88e019af-8d5c-4bd4-badd-edc12286cf10"
   },
   "outputs": [],
   "source": [
    "clustering = sklearn.cluster.DBSCAN()\n",
    "clustering.fit(X_min_max_scaled)"
   ]
  },
  {
   "cell_type": "code",
   "execution_count": null,
   "metadata": {
    "colab": {
     "base_uri": "https://localhost:8080/",
     "height": 237
    },
    "id": "W1ug3oUcd3Pv",
    "outputId": "630f9ffc-3211-42fe-8938-b4f205979350"
   },
   "outputs": [],
   "source": [
    "pd.Series(clustering.labels_).value_counts()"
   ]
  },
  {
   "cell_type": "markdown",
   "metadata": {},
   "source": [
    "What does the number -1 means?\n",
    "#### Find better parameters *eps* and *min_pts* and visualize you result"
   ]
  },
  {
   "cell_type": "code",
   "execution_count": null,
   "metadata": {
    "colab": {
     "base_uri": "https://localhost:8080/",
     "height": 109
    },
    "id": "0Q2O8L5ifB0N",
    "outputId": "d359a0a7-0636-4ff5-a58e-af27161fba11"
   },
   "outputs": [],
   "source": [
    "clustering = sklearn.cluster.DBSCAN(eps=0.25, min_samples=10).fit(X_min_max_scaled)\n",
    "pd.Series(clustering.labels_).value_counts()"
   ]
  },
  {
   "cell_type": "markdown",
   "metadata": {},
   "source": [
    "#### Lets get insight into distances in our dataset, to allow us to find better configuration of parameters for DBSCAN"
   ]
  },
  {
   "cell_type": "code",
   "execution_count": null,
   "metadata": {
    "colab": {
     "base_uri": "https://localhost:8080/",
     "height": 256
    },
    "id": "OQSSZzO6f4aA",
    "outputId": "3db254b5-efab-4bd0-9f41-59bcc5491f0d"
   },
   "outputs": [],
   "source": [
    "distance_matrix = scipy.spatial.distance_matrix(X_min_max_scaled, X_min_max_scaled)\n",
    "distance_matrix"
   ]
  },
  {
   "cell_type": "code",
   "execution_count": null,
   "metadata": {},
   "outputs": [],
   "source": [
    "sns.histplot(distance_matrix.flatten())"
   ]
  },
  {
   "cell_type": "code",
   "execution_count": null,
   "metadata": {
    "colab": {
     "base_uri": "https://localhost:8080/",
     "height": 256
    },
    "id": "2xS100K_gy8T",
    "outputId": "2175b76a-35c9-46d3-a308-267844496f65"
   },
   "outputs": [],
   "source": [
    "distance_matrix = scipy.spatial.distance_matrix(X_min_max_scaled, X_min_max_scaled)\n",
    "distance_matrix.sort(axis=1)\n",
    "distance_matrix"
   ]
  },
  {
   "cell_type": "code",
   "execution_count": null,
   "metadata": {
    "colab": {
     "base_uri": "https://localhost:8080/",
     "height": 283
    },
    "id": "Px6BLtDXhhrN",
    "outputId": "19671df0-7548-4f99-9bbe-90deca6f86f5"
   },
   "outputs": [],
   "source": [
    "sns.histplot(distance_matrix[:, 1])"
   ]
  },
  {
   "cell_type": "code",
   "execution_count": null,
   "metadata": {
    "colab": {
     "base_uri": "https://localhost:8080/",
     "height": 283
    },
    "id": "WD4_2WCdhx72",
    "outputId": "efd11699-5f5b-4f7b-f933-884d0d02edc1"
   },
   "outputs": [],
   "source": [
    "sns.histplot(distance_matrix[:, 10], bins=50)"
   ]
  },
  {
   "cell_type": "markdown",
   "metadata": {},
   "source": [
    "#### What can we notice in previous visualizations?"
   ]
  },
  {
   "cell_type": "code",
   "execution_count": null,
   "metadata": {},
   "outputs": [],
   "source": [
    "clustering = sklearn.cluster.DBSCAN(eps=0.07, min_samples=10).fit(X_min_max_scaled)\n",
    "pd.Series(clustering.labels_).value_counts()"
   ]
  },
  {
   "cell_type": "markdown",
   "metadata": {},
   "source": [
    "#### Description of clusters (and probably noise points too)\n",
    "\n",
    "- We should consider removing -1 cluster out of interpretation section"
   ]
  },
  {
   "cell_type": "code",
   "execution_count": 50,
   "metadata": {},
   "outputs": [],
   "source": [
    "df['cluster_id'] = clustering.labels_"
   ]
  },
  {
   "cell_type": "code",
   "execution_count": null,
   "metadata": {},
   "outputs": [],
   "source": [
    "df.groupby('cluster_id').quality_class.value_counts()"
   ]
  },
  {
   "cell_type": "code",
   "execution_count": null,
   "metadata": {},
   "outputs": [],
   "source": [
    "df_quality_in_clusters = pd.pivot(df.groupby('cluster_id').quality.value_counts().reset_index(name='count'), index='quality', columns=['cluster_id'], values='count')\n",
    "df_quality_in_clusters.fillna(0, inplace=True)\n",
    "df_quality_in_clusters.sort_index(ascending=False)"
   ]
  },
  {
   "cell_type": "code",
   "execution_count": null,
   "metadata": {},
   "outputs": [],
   "source": [
    "sns.heatmap((df_quality_in_clusters/df_quality_in_clusters.sum(axis=0)).sort_index(ascending=False), cmap='YlOrBr', vmin=0, vmax=1, annot=True, fmt='.1%')"
   ]
  },
  {
   "cell_type": "code",
   "execution_count": null,
   "metadata": {},
   "outputs": [],
   "source": [
    "colorpalette = dict([(i, sns.color_palette('tab10')[i]) for i in range(10)])\n",
    "colorpalette[-1] = (0.8,0.8,0.8)\n",
    "colorpalette"
   ]
  },
  {
   "cell_type": "code",
   "execution_count": null,
   "metadata": {},
   "outputs": [],
   "source": [
    "sns.pairplot(data=df[top_5_features_for_quality + ['cluster_id']], hue='cluster_id', palette=colorpalette, plot_kws={'alpha':0.6})"
   ]
  },
  {
   "cell_type": "code",
   "execution_count": null,
   "metadata": {},
   "outputs": [],
   "source": [
    "sns.pairplot(data=df[df.cluster_id != -1][top_5_features_for_quality + ['cluster_id']].sort_values('cluster_id', ascending=False), hue='cluster_id', palette=colorpalette, plot_kws={'alpha':0.6})"
   ]
  },
  {
   "cell_type": "markdown",
   "metadata": {},
   "source": [
    "### Discussion: What to do with group cluster_id=-1? Should it be included or excluded from clustering interpretation?"
   ]
  },
  {
   "cell_type": "markdown",
   "metadata": {},
   "source": [
    "#### There goes further description of clusters..."
   ]
  },
  {
   "cell_type": "markdown",
   "metadata": {},
   "source": []
  },
  {
   "cell_type": "markdown",
   "metadata": {},
   "source": [
    "## Is the scaling of the feature good?"
   ]
  },
  {
   "cell_type": "code",
   "execution_count": null,
   "metadata": {},
   "outputs": [],
   "source": [
    "sns.histplot(data=df_only_numeric, x='fixed acidity')"
   ]
  },
  {
   "cell_type": "code",
   "execution_count": null,
   "metadata": {},
   "outputs": [],
   "source": [
    "sns.histplot(data=df, x='total sulfur dioxide')"
   ]
  },
  {
   "cell_type": "code",
   "execution_count": null,
   "metadata": {},
   "outputs": [],
   "source": [
    "sns.histplot(data=df, x='residual sugar')"
   ]
  },
  {
   "cell_type": "code",
   "execution_count": 61,
   "metadata": {},
   "outputs": [],
   "source": [
    "distance_matrix_first_column = scipy.spatial.distance_matrix(scaler.fit_transform(df[['fixed acidity']]), scaler.fit_transform(df[['fixed acidity']]))\n",
    "distance_matrix_second_column = scipy.spatial.distance_matrix(scaler.fit_transform(df[['total sulfur dioxide']]), scaler.fit_transform(df[['total sulfur dioxide']]))\n",
    "distance_matrix_third_column = scipy.spatial.distance_matrix(scaler.fit_transform(df[['residual sugar']]), scaler.fit_transform(df[['residual sugar']]))"
   ]
  },
  {
   "cell_type": "code",
   "execution_count": null,
   "metadata": {},
   "outputs": [],
   "source": [
    "distance_matrix_first_column[np.triu_indices_from(distance_matrix_first_column, k=1)]"
   ]
  },
  {
   "cell_type": "code",
   "execution_count": null,
   "metadata": {},
   "outputs": [],
   "source": [
    "sns.histplot(distance_matrix_first_column[np.triu_indices_from(distance_matrix_first_column, k=1)], bins=50)"
   ]
  },
  {
   "cell_type": "code",
   "execution_count": null,
   "metadata": {},
   "outputs": [],
   "source": [
    "sns.histplot(distance_matrix_second_column[np.triu_indices_from(distance_matrix_second_column, k=1)], bins=50)"
   ]
  },
  {
   "cell_type": "code",
   "execution_count": null,
   "metadata": {},
   "outputs": [],
   "source": [
    "sns.histplot(distance_matrix_third_column[np.triu_indices_from(distance_matrix_third_column, k=1)], bins=50)"
   ]
  },
  {
   "cell_type": "markdown",
   "metadata": {},
   "source": [
    "### How would you treat non-numerical attributes during preprocessing?"
   ]
  },
  {
   "cell_type": "markdown",
   "metadata": {},
   "source": [
    "### For more info about Sklearn clustering, take a look into documentation https://scikit-learn.org/stable/modules/clustering.html#clustering"
   ]
  },
  {
   "cell_type": "markdown",
   "metadata": {},
   "source": [
    "# Tasks (2p)\n",
    "\n",
    "## Part 1 \n",
    "Continue with clustering analysis:\n",
    "\n",
    "MinMax scaling is not the only best possibility for scaling of numerical attributes.\n",
    "\n",
    "1. Take a look into documentation (https://scikit-learn.org/stable/modules/classes.html?highlight=preprocessing#module-sklearn.preprocessing) and choose other method for scaling your features.\n",
    "\n",
    "2. Apply clustering method of your choice (https://scikit-learn.org/stable/modules/clustering.html) for differently scaled data.\n",
    "\n",
    "3. Describe detected clusters.\n",
    "\n",
    "As a bonus (voluntary), it may be interesting to combine differently scaled features - e.g. feature1 scaled using MinMax, feature2 scaled using PowerTransform etc. And used this dataset for clustering.\n",
    "\n",
    "## Part 2\n",
    "Pick one from the following tasks:\n",
    "- a\\) Implement function for Entropy or Gini index as a **clustering external validation** during the \"elbow method\".\n",
    "\n",
    "or\n",
    "\n",
    "- b\\) Use a Mahalanobis distance with some clustering method. (Hint: take a look into https://docs.scipy.org/doc/scipy/reference/generated/scipy.spatial.distance.pdist.html and look for Sklearn clustering method able to work with \"precomputed\" distance matrix)"
   ]
  },
  {
   "cell_type": "code",
   "execution_count": null,
   "metadata": {},
   "outputs": [],
   "source": []
  }
 ],
 "metadata": {
  "colab": {
   "collapsed_sections": [],
   "name": "cv4.ipynb",
   "provenance": []
  },
  "kernelspec": {
   "display_name": "venv",
   "language": "python",
   "name": "python3"
  },
  "language_info": {
   "codemirror_mode": {
    "name": "ipython",
    "version": 3
   },
   "file_extension": ".py",
   "mimetype": "text/x-python",
   "name": "python",
   "nbconvert_exporter": "python",
   "pygments_lexer": "ipython3",
   "version": "3.12.1"
  }
 },
 "nbformat": 4,
 "nbformat_minor": 4
}
